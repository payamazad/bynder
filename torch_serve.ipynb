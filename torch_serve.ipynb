{
 "cells": [
  {
   "cell_type": "code",
   "execution_count": 42,
   "id": "e207678e-de24-48eb-9f75-178b351d1b16",
   "metadata": {},
   "outputs": [
    {
     "name": "stderr",
     "output_type": "stream",
     "text": [
      "/var/folders/ks/g1qslkr11t58rmrdg8_460_80000gp/T/ipykernel_43331/261902294.py:9: FutureWarning: You are using `torch.load` with `weights_only=False` (the current default value), which uses the default pickle module implicitly. It is possible to construct malicious pickle data which will execute arbitrary code during unpickling (See https://github.com/pytorch/pytorch/blob/main/SECURITY.md#untrusted-models for more details). In a future release, the default value for `weights_only` will be flipped to `True`. This limits the functions that could be executed during unpickling. Arbitrary objects will no longer be allowed to be loaded via this mode unless they are explicitly allowlisted by the user via `torch.serialization.add_safe_globals`. We recommend you start setting `weights_only=True` for any use case where you don't have full control of the loaded file. Please open an issue on GitHub for any issues related to this experimental feature.\n",
      "  model = torch.load(f\"models/{label}/saved_model.pt\", map_location=torch.device('cpu'))\n"
     ]
    }
   ],
   "source": [
    "import torch\n",
    "import src.Cream.TinyViT\n",
    "from src.Cream.TinyViT.models.tiny_vit import tiny_vit_5m_224\n",
    "\n",
    "LABELS = [\"gender\", \"articleType\", \"baseColour\", \"season\", \"usage\"]\n",
    "example_input = torch.rand(1, 3, 224, 224)\n",
    "\n",
    "for label in LABELS:\n",
    "    model = torch.load(f\"models/{label}/saved_model.pt\", map_location=torch.device('cpu'))\n",
    "    traced_model = torch.jit.trace(model, example_input)\n",
    "    traced_model.save(f\"models/{label}/traced_model.pt\")"
   ]
  },
  {
   "cell_type": "code",
   "execution_count": null,
   "id": "0b6c1adf-73e9-490a-b00e-d02f43038b2e",
   "metadata": {},
   "outputs": [],
   "source": []
  },
  {
   "cell_type": "code",
   "execution_count": 2,
   "id": "f5a61f40-501d-4704-8c07-f760eadbb2b6",
   "metadata": {},
   "outputs": [],
   "source": [
    "import torch\n",
    "model = torch.jit.load(\"models/gender/traced_model.pt\")"
   ]
  },
  {
   "cell_type": "code",
   "execution_count": null,
   "id": "2f725de9-dc9d-46a5-8a1e-438c961a8e01",
   "metadata": {},
   "outputs": [],
   "source": []
  }
 ],
 "metadata": {
  "kernelspec": {
   "display_name": "Python 3 (ipykernel)",
   "language": "python",
   "name": "python3"
  },
  "language_info": {
   "codemirror_mode": {
    "name": "ipython",
    "version": 3
   },
   "file_extension": ".py",
   "mimetype": "text/x-python",
   "name": "python",
   "nbconvert_exporter": "python",
   "pygments_lexer": "ipython3",
   "version": "3.10.10"
  }
 },
 "nbformat": 4,
 "nbformat_minor": 5
}
