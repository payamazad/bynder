{
 "cells": [
  {
   "cell_type": "code",
   "execution_count": 1,
   "id": "dfb3af6c-a46d-4fa4-ac01-24f05b246610",
   "metadata": {},
   "outputs": [],
   "source": [
    "import pandas as pd\n",
    "\n",
    "import torch\n",
    "import numpy as np\n",
    "from PIL import Image\n",
    "\n",
    "from models.tiny_vit import tiny_vit_21m_224\n",
    "from data import build_transform, imagenet_classnames\n",
    "from config import get_config"
   ]
  },
  {
   "cell_type": "markdown",
   "id": "ae3de986-117b-488b-8771-81c0b3429311",
   "metadata": {},
   "source": [
    "## Metadata"
   ]
  },
  {
   "cell_type": "code",
   "execution_count": 2,
   "id": "79e92f28-4d06-4a44-8fef-57370c08baed",
   "metadata": {},
   "outputs": [
    {
     "data": {
      "text/html": [
       "<div>\n",
       "<style scoped>\n",
       "    .dataframe tbody tr th:only-of-type {\n",
       "        vertical-align: middle;\n",
       "    }\n",
       "\n",
       "    .dataframe tbody tr th {\n",
       "        vertical-align: top;\n",
       "    }\n",
       "\n",
       "    .dataframe thead th {\n",
       "        text-align: right;\n",
       "    }\n",
       "</style>\n",
       "<table border=\"1\" class=\"dataframe\">\n",
       "  <thead>\n",
       "    <tr style=\"text-align: right;\">\n",
       "      <th></th>\n",
       "      <th>id</th>\n",
       "      <th>gender</th>\n",
       "      <th>masterCategory</th>\n",
       "      <th>subCategory</th>\n",
       "      <th>articleType</th>\n",
       "      <th>baseColour</th>\n",
       "      <th>season</th>\n",
       "      <th>year</th>\n",
       "      <th>usage</th>\n",
       "      <th>productDisplayName</th>\n",
       "      <th>productUsageRights</th>\n",
       "    </tr>\n",
       "  </thead>\n",
       "  <tbody>\n",
       "    <tr>\n",
       "      <th>25157</th>\n",
       "      <td>11395</td>\n",
       "      <td>Men</td>\n",
       "      <td>Apparel</td>\n",
       "      <td>Topwear</td>\n",
       "      <td>Tshirts</td>\n",
       "      <td>Red</td>\n",
       "      <td>Fall</td>\n",
       "      <td>2011.0</td>\n",
       "      <td>Casual</td>\n",
       "      <td>United Colors of Benetton Men Light Winter Red...</td>\n",
       "      <td>Limited</td>\n",
       "    </tr>\n",
       "    <tr>\n",
       "      <th>4909</th>\n",
       "      <td>36757</td>\n",
       "      <td>Women</td>\n",
       "      <td>Accessories</td>\n",
       "      <td>Watches</td>\n",
       "      <td>Watches</td>\n",
       "      <td>Black</td>\n",
       "      <td>Winter</td>\n",
       "      <td>2016.0</td>\n",
       "      <td>Casual</td>\n",
       "      <td>Maxima Women Black Watch</td>\n",
       "      <td>Free</td>\n",
       "    </tr>\n",
       "    <tr>\n",
       "      <th>17586</th>\n",
       "      <td>25682</td>\n",
       "      <td>Women</td>\n",
       "      <td>Accessories</td>\n",
       "      <td>Watches</td>\n",
       "      <td>Watches</td>\n",
       "      <td>Black</td>\n",
       "      <td>Winter</td>\n",
       "      <td>2016.0</td>\n",
       "      <td>Casual</td>\n",
       "      <td>Fastrack Women Black Casual Watch</td>\n",
       "      <td>Free</td>\n",
       "    </tr>\n",
       "  </tbody>\n",
       "</table>\n",
       "</div>"
      ],
      "text/plain": [
       "          id gender masterCategory subCategory articleType baseColour  season  \\\n",
       "25157  11395    Men        Apparel     Topwear     Tshirts        Red    Fall   \n",
       "4909   36757  Women    Accessories     Watches     Watches      Black  Winter   \n",
       "17586  25682  Women    Accessories     Watches     Watches      Black  Winter   \n",
       "\n",
       "         year   usage                                 productDisplayName  \\\n",
       "25157  2011.0  Casual  United Colors of Benetton Men Light Winter Red...   \n",
       "4909   2016.0  Casual                           Maxima Women Black Watch   \n",
       "17586  2016.0  Casual                  Fastrack Women Black Casual Watch   \n",
       "\n",
       "      productUsageRights  \n",
       "25157            Limited  \n",
       "4909                Free  \n",
       "17586               Free  "
      ]
     },
     "execution_count": 2,
     "metadata": {},
     "output_type": "execute_result"
    }
   ],
   "source": [
    "metadata = pd.read_csv(\"dataset/styles.csv\")\n",
    "metadata.sample(3)"
   ]
  },
  {
   "cell_type": "markdown",
   "id": "09e5a235-d974-4601-99d8-bc90b40dc51b",
   "metadata": {},
   "source": [
    "## Loading model"
   ]
  },
  {
   "cell_type": "code",
   "execution_count": null,
   "id": "1d66830e-5bf2-4aa2-8c93-5679ddbf210c",
   "metadata": {},
   "outputs": [],
   "source": [
    "\"\"\"Model Inference.\"\"\"\n",
    "\n",
    "\n",
    "config = get_config()\n",
    "\n",
    "\n",
    "# Build model\n",
    "model = tiny_vit_5m_224(pretrained=True)\n",
    "model.eval()\n",
    "\n",
    "# Load Image\n",
    "fname = \"../../dataset/images/10001.jpg\"\n",
    "image = Image.open(fname)\n",
    "transform = build_transform(is_train=False, config=config)\n",
    "\n",
    "# (1, 3, img_size, img_size)\n",
    "batch = transform(image)[None]\n",
    "\n",
    "with torch.no_grad():\n",
    "    logits = model(batch)\n",
    "\n",
    "# print top-5 classification names\n",
    "probs = torch.softmax(logits, -1)\n",
    "scores, inds = probs.topk(5, largest=True, sorted=True)\n",
    "print('=' * 30)\n",
    "print(fname)\n",
    "for score, ind in zip(scores[0].numpy(), inds[0].numpy()):\n",
    "    print(f'{imagenet_classnames[ind]}: {score:.2f}')"
   ]
  },
  {
   "cell_type": "markdown",
   "id": "fb503ba3-f9af-4c15-822a-0ec01e4ab127",
   "metadata": {},
   "source": [
    "## Default Infer"
   ]
  },
  {
   "cell_type": "code",
   "execution_count": null,
   "id": "e1ae2d8f-806a-4424-864d-5a11b772d9c0",
   "metadata": {},
   "outputs": [],
   "source": []
  },
  {
   "cell_type": "markdown",
   "id": "d0124352-f21d-4a36-8c66-069f1e3946e9",
   "metadata": {},
   "source": [
    "# Single Class Fine Tune"
   ]
  },
  {
   "cell_type": "markdown",
   "id": "3a14702e-3dbb-46ee-8c53-81617fb82ae5",
   "metadata": {},
   "source": [
    "## Gender Prediciton"
   ]
  },
  {
   "cell_type": "markdown",
   "id": "bbb46f0b-572d-4e6f-8f7e-fad424efa603",
   "metadata": {},
   "source": [
    "### define model"
   ]
  },
  {
   "cell_type": "code",
   "execution_count": null,
   "id": "06cf991e-49f4-4d79-8f46-b4c7ead3fa63",
   "metadata": {},
   "outputs": [],
   "source": []
  },
  {
   "cell_type": "markdown",
   "id": "2177db0b-e8fc-4408-ad5a-5779b3410a76",
   "metadata": {},
   "source": [
    "### create dataset"
   ]
  },
  {
   "cell_type": "code",
   "execution_count": null,
   "id": "d14bfd03-c470-4bf4-bdf0-e26d933debcb",
   "metadata": {},
   "outputs": [],
   "source": []
  },
  {
   "cell_type": "markdown",
   "id": "1b90b49d-28e4-4768-b768-045a04c48533",
   "metadata": {},
   "source": [
    "### train"
   ]
  },
  {
   "cell_type": "code",
   "execution_count": null,
   "id": "9020da2f-488a-4da1-a8d9-768e0a372e9b",
   "metadata": {},
   "outputs": [],
   "source": []
  }
 ],
 "metadata": {
  "kernelspec": {
   "display_name": "Python 3 (ipykernel)",
   "language": "python",
   "name": "python3"
  },
  "language_info": {
   "codemirror_mode": {
    "name": "ipython",
    "version": 3
   },
   "file_extension": ".py",
   "mimetype": "text/x-python",
   "name": "python",
   "nbconvert_exporter": "python",
   "pygments_lexer": "ipython3",
   "version": "3.10.10"
  }
 },
 "nbformat": 4,
 "nbformat_minor": 5
}
