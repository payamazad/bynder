{
 "cells": [
  {
   "cell_type": "code",
   "execution_count": 4,
   "id": "dfb3af6c-a46d-4fa4-ac01-24f05b246610",
   "metadata": {},
   "outputs": [],
   "source": [
    "import pandas as pd\n",
    "\n",
    "import torch\n",
    "import numpy as np\n",
    "from PIL import Image\n",
    "\n",
    "from models.tiny_vit import tiny_vit_21m_224\n",
    "from data import build_transform, imagenet_classnames\n",
    "from config import get_config"
   ]
  },
  {
   "cell_type": "markdown",
   "id": "ae3de986-117b-488b-8771-81c0b3429311",
   "metadata": {},
   "source": [
    "## Metadata"
   ]
  },
  {
   "cell_type": "code",
   "execution_count": 3,
   "id": "79e92f28-4d06-4a44-8fef-57370c08baed",
   "metadata": {},
   "outputs": [
    {
     "data": {
      "text/html": [
       "<div>\n",
       "<style scoped>\n",
       "    .dataframe tbody tr th:only-of-type {\n",
       "        vertical-align: middle;\n",
       "    }\n",
       "\n",
       "    .dataframe tbody tr th {\n",
       "        vertical-align: top;\n",
       "    }\n",
       "\n",
       "    .dataframe thead th {\n",
       "        text-align: right;\n",
       "    }\n",
       "</style>\n",
       "<table border=\"1\" class=\"dataframe\">\n",
       "  <thead>\n",
       "    <tr style=\"text-align: right;\">\n",
       "      <th></th>\n",
       "      <th>id</th>\n",
       "      <th>gender</th>\n",
       "      <th>masterCategory</th>\n",
       "      <th>subCategory</th>\n",
       "      <th>articleType</th>\n",
       "      <th>baseColour</th>\n",
       "      <th>season</th>\n",
       "      <th>year</th>\n",
       "      <th>usage</th>\n",
       "      <th>productDisplayName</th>\n",
       "      <th>productUsageRights</th>\n",
       "    </tr>\n",
       "  </thead>\n",
       "  <tbody>\n",
       "    <tr>\n",
       "      <th>43785</th>\n",
       "      <td>46441</td>\n",
       "      <td>Men</td>\n",
       "      <td>NaN</td>\n",
       "      <td>Watches</td>\n",
       "      <td>Watches</td>\n",
       "      <td>Silver</td>\n",
       "      <td>Winter</td>\n",
       "      <td>2016.0</td>\n",
       "      <td>Casual</td>\n",
       "      <td>Timex Men Sliver Dial Chronograph Watch</td>\n",
       "      <td>Free</td>\n",
       "    </tr>\n",
       "    <tr>\n",
       "      <th>36118</th>\n",
       "      <td>24103</td>\n",
       "      <td>Men</td>\n",
       "      <td>Footwear</td>\n",
       "      <td>Flip Flops</td>\n",
       "      <td>Flip Flops</td>\n",
       "      <td>Blue</td>\n",
       "      <td>Fall</td>\n",
       "      <td>2012.0</td>\n",
       "      <td>Casual</td>\n",
       "      <td>Playboy Men Casual Blue Flip Flops</td>\n",
       "      <td>Free</td>\n",
       "    </tr>\n",
       "    <tr>\n",
       "      <th>24022</th>\n",
       "      <td>44199</td>\n",
       "      <td>Women</td>\n",
       "      <td>Footwear</td>\n",
       "      <td>Flip Flops</td>\n",
       "      <td>Flip Flops</td>\n",
       "      <td>Brown</td>\n",
       "      <td>Winter</td>\n",
       "      <td>2012.0</td>\n",
       "      <td>Casual</td>\n",
       "      <td>iPanema Women Brown Flip Flops</td>\n",
       "      <td>Limited</td>\n",
       "    </tr>\n",
       "  </tbody>\n",
       "</table>\n",
       "</div>"
      ],
      "text/plain": [
       "          id gender masterCategory subCategory articleType baseColour  season  \\\n",
       "43785  46441    Men            NaN     Watches     Watches     Silver  Winter   \n",
       "36118  24103    Men       Footwear  Flip Flops  Flip Flops       Blue    Fall   \n",
       "24022  44199  Women       Footwear  Flip Flops  Flip Flops      Brown  Winter   \n",
       "\n",
       "         year   usage                       productDisplayName  \\\n",
       "43785  2016.0  Casual  Timex Men Sliver Dial Chronograph Watch   \n",
       "36118  2012.0  Casual       Playboy Men Casual Blue Flip Flops   \n",
       "24022  2012.0  Casual           iPanema Women Brown Flip Flops   \n",
       "\n",
       "      productUsageRights  \n",
       "43785               Free  \n",
       "36118               Free  \n",
       "24022            Limited  "
      ]
     },
     "execution_count": 3,
     "metadata": {},
     "output_type": "execute_result"
    }
   ],
   "source": [
    "metadata = pd.read_csv(\"../../dataset/styles.csv\")\n",
    "metadata.sample(3)"
   ]
  },
  {
   "cell_type": "markdown",
   "id": "09e5a235-d974-4601-99d8-bc90b40dc51b",
   "metadata": {},
   "source": [
    "## Loading model"
   ]
  },
  {
   "cell_type": "code",
   "execution_count": 6,
   "id": "1d66830e-5bf2-4aa2-8c93-5679ddbf210c",
   "metadata": {},
   "outputs": [],
   "source": [
    "config = get_config()\n",
    "\n",
    "\n",
    "# Build model\n",
    "model = tiny_vit_21m_224(pretrained=True)\n",
    "# model.eval()"
   ]
  },
  {
   "cell_type": "markdown",
   "id": "fb503ba3-f9af-4c15-822a-0ec01e4ab127",
   "metadata": {},
   "source": [
    "## Default Infer"
   ]
  },
  {
   "cell_type": "code",
   "execution_count": 7,
   "id": "e1ae2d8f-806a-4424-864d-5a11b772d9c0",
   "metadata": {},
   "outputs": [
    {
     "name": "stdout",
     "output_type": "stream",
     "text": [
      "==============================\n",
      "../../dataset/images/10001.jpg\n",
      "lighter: 0.02\n",
      "dumbbell: 0.02\n",
      "plectrum: 0.01\n",
      "water bottle: 0.01\n",
      "screwdriver: 0.01\n"
     ]
    }
   ],
   "source": [
    "\"\"\"Model Inference.\"\"\"\n",
    "\n",
    "# Load Image\n",
    "fname = \"../../dataset/images/10001.jpg\"\n",
    "image = Image.open(fname)\n",
    "transform = build_transform(is_train=False, config=config)\n",
    "\n",
    "# (1, 3, img_size, img_size)\n",
    "batch = transform(image)[None]\n",
    "\n",
    "with torch.no_grad():\n",
    "    logits = model(batch)\n",
    "\n",
    "# print top-5 classification names\n",
    "probs = torch.softmax(logits, -1)\n",
    "scores, inds = probs.topk(5, largest=True, sorted=True)\n",
    "print('=' * 30)\n",
    "print(fname)\n",
    "for score, ind in zip(scores[0].numpy(), inds[0].numpy()):\n",
    "    print(f'{imagenet_classnames[ind]}: {score:.2f}')"
   ]
  },
  {
   "cell_type": "markdown",
   "id": "d0124352-f21d-4a36-8c66-069f1e3946e9",
   "metadata": {},
   "source": [
    "# Single Class Fine Tune"
   ]
  },
  {
   "cell_type": "markdown",
   "id": "3a14702e-3dbb-46ee-8c53-81617fb82ae5",
   "metadata": {},
   "source": [
    "## Gender Prediciton"
   ]
  },
  {
   "cell_type": "markdown",
   "id": "bbb46f0b-572d-4e6f-8f7e-fad424efa603",
   "metadata": {},
   "source": [
    "### define model"
   ]
  },
  {
   "cell_type": "code",
   "execution_count": 35,
   "id": "06cf991e-49f4-4d79-8f46-b4c7ead3fa63",
   "metadata": {},
   "outputs": [],
   "source": [
    "model.head = torch.nn.Linear(model.head.in_features, 3)"
   ]
  },
  {
   "cell_type": "markdown",
   "id": "2177db0b-e8fc-4408-ad5a-5779b3410a76",
   "metadata": {},
   "source": [
    "### create dataset"
   ]
  },
  {
   "cell_type": "code",
   "execution_count": null,
   "id": "3ce52e21-45bb-4aa7-96a7-4649fd0f1b4c",
   "metadata": {},
   "outputs": [],
   "source": [
    "import torch\n",
    "import torch.nn as nn\n",
    "import torch.optim as optim\n",
    "from torch.utils.data import Dataset, DataLoader\n",
    "from torchvision import transforms, models\n",
    "from PIL import Image\n",
    "import pandas as pd\n",
    "import os\n",
    "\n",
    "# Custom dataset class\n",
    "class CustomImageDataset(Dataset):\n",
    "    def __init__(self, csv_file, img_dir, transform=None):\n",
    "        metadata = pd.read_csv(csv_file)\n",
    "        self.labels_df = metadata[~metadata[\"id\"].isin(worng_shape_images + missing_files)]\n",
    "        self.img_dir = img_dir\n",
    "        self.transform = transform\n",
    "        self.gendermap = {\"Boys\": 0,\n",
    "                          \"Girls\": 1,\n",
    "                          \"Men\": 0,\n",
    "                          \"Unisex\": 2,\n",
    "                          \"Women\": 1,\n",
    "                         }\n",
    "        \n",
    "\n",
    "    def __len__(self):\n",
    "        return len(self.labels_df)\n",
    "\n",
    "    def __getitem__(self, idx):\n",
    "        img_name = os.path.join(self.img_dir, str(self.labels_df.iloc[idx, 0])+\".jpg\")\n",
    "        image = Image.open(img_name)\n",
    "        label = self.gendermap[self.labels_df.iloc[idx, 1]]\n",
    "\n",
    "        if self.transform:\n",
    "            image = self.transform(image)\n",
    "        \n",
    "        return image, label\n",
    "\n",
    "# Define the transformations\n",
    "transform = transforms.Compose([\n",
    "    transforms.Resize((224, 224)),  # Resize images to 224x224\n",
    "    transforms.ToTensor(),           # Convert PIL image to tensor\n",
    "])\n",
    "\n",
    "# Initialize dataset and dataloader, \n",
    "dataset = CustomImageDataset(csv_file=\"../../dataset/styles.csv\", img_dir=\"../../dataset/images/\", transform=transform)\n",
    "dataloader = DataLoader(dataset, batch_size=128, shuffle=True)"
   ]
  },
  {
   "cell_type": "code",
   "execution_count": 86,
   "id": "9567c485-1f9c-4400-b8f9-0a4edbb90193",
   "metadata": {},
   "outputs": [],
   "source": [
    "dataset = CustomImageDataset(\"../../dataset/styles.csv\", \"../../dataset/images/\", transform=None)\n",
    "# dataloader = DataLoader(dataset, batch_size=5, shuffle=True)\n",
    "\n",
    "generator = torch.Generator().manual_seed(42)\n",
    "train_data, val_data, test_data = torch.utils.data.random_split(dataset, [0.7, 0.1, 0.2], generator)\n",
    "\n",
    "train_dataloader = DataLoader(train_data, batch_size=5, shuffle=True)\n",
    "test_dataloader = DataLoader(test_data, batch_size=5, shuffle=True)\n",
    "val_dataloader = DataLoader(val_data, batch_size=5, shuffle=True)"
   ]
  },
  {
   "cell_type": "code",
   "execution_count": 87,
   "id": "9b317bb3-8f12-48ed-bafe-0234920fc5b8",
   "metadata": {},
   "outputs": [
    {
     "name": "stdout",
     "output_type": "stream",
     "text": [
      "Feature batch shape: torch.Size([5, 3, 80, 60])\n"
     ]
    },
    {
     "data": {
      "image/png": "[encoded data removed]",
      "text/plain": [
       "<Figure size 640x480 with 1 Axes>"
      ]
     },
     "metadata": {},
     "output_type": "display_data"
    },
    {
     "name": "stdout",
     "output_type": "stream",
     "text": [
      "Label: 1\n"
     ]
    }
   ],
   "source": [
    "# Display image and label.\n",
    "features, labels = next(iter(train_dataloader))\n",
    "print(f\"Feature batch shape: {features.size()}\")\n",
    "# print(f\"Labels batch shape: {labels.size()}\")\n",
    "img = features[0]#.squeeze()\n",
    "label = labels[0]\n",
    "plt.imshow(img.permute(1, 2, 0))\n",
    "plt.show()\n",
    "print(f\"Label: {label}\")"
   ]
  },
  {
   "cell_type": "code",
   "execution_count": 88,
   "id": "cc88fd22-50d1-4d03-8ef7-bee166b4ec9d",
   "metadata": {},
   "outputs": [
    {
     "data": {
      "text/plain": [
       "torch.Size([5, 3, 80, 60])"
      ]
     },
     "execution_count": 88,
     "metadata": {},
     "output_type": "execute_result"
    }
   ],
   "source": [
    "features.shape"
   ]
  },
  {
   "cell_type": "code",
   "execution_count": 89,
   "id": "2b914e64-fadf-4785-8f4d-67623540ed3d",
   "metadata": {},
   "outputs": [
    {
     "data": {
      "text/plain": [
       "gender\n",
       "Boys        830\n",
       "Girls       655\n",
       "Men       22147\n",
       "Unisex     2161\n",
       "Women     18631\n",
       "Name: id, dtype: int64"
      ]
     },
     "execution_count": 89,
     "metadata": {},
     "output_type": "execute_result"
    }
   ],
   "source": [
    "metadata.groupby(\"gender\").count()[\"id\"]"
   ]
  },
  {
   "cell_type": "markdown",
   "id": "1b90b49d-28e4-4768-b768-045a04c48533",
   "metadata": {},
   "source": [
    "### train"
   ]
  },
  {
   "cell_type": "raw",
   "id": "d2f2a8f1-c359-44eb-8d8e-f7dba5431118",
   "metadata": {},
   "source": [
    "import torchvision.transforms as transforms\n",
    "import torchvision.datasets as datasets\n",
    "\n",
    "transform = transforms.Compose([\n",
    "    transforms.Resize((224, 224)),\n",
    "    transforms.ToTensor(),\n",
    "    transforms.Normalize(mean=[0.485, 0.456, 0.406], std=[0.229, 0.224, 0.225])\n",
    "])\n",
    "\n",
    "train_dataset = datasets.ImageFolder(root='path_to_train_data', transform=transform)\n",
    "train_loader = torch.utils.data.DataLoader(dataset=train_dataset, batch_size=32, shuffle=True)"
   ]
  },
  {
   "cell_type": "code",
   "execution_count": null,
   "id": "ce297f24-538b-4436-9ae2-793d58c47776",
   "metadata": {},
   "outputs": [],
   "source": []
  },
  {
   "cell_type": "raw",
   "id": "86b253ef-daa5-4d26-89a8-5c1b30435b94",
   "metadata": {},
   "source": [
    "config = get_config()\n",
    "\n",
    "\n",
    "# Build model\n",
    "model = tiny_vit_21m_224(pretrained=True)\n",
    "for param in model.parameters():\n",
    "    param.requires_grad = False\n",
    "    \n",
    "model.head = torch.nn.Linear(model.head.in_features, 3)\n",
    "for param in model.head.parameters():\n",
    "    param.requires_grad = True\n",
    "# device = torch.device(\"cuda\" if torch.cuda.is_available() else \"cpu\")\n",
    "# model.to(device)"
   ]
  },
  {
   "cell_type": "code",
   "execution_count": 79,
   "id": "598d6b80-55b8-430c-81bd-43c326f9c3d5",
   "metadata": {},
   "outputs": [
    {
     "ename": "AttributeError",
     "evalue": "'list' object has no attribute 'shape'",
     "output_type": "error",
     "traceback": [
      "\u001b[0;31m---------------------------------------------------------------------------\u001b[0m",
      "\u001b[0;31mAttributeError\u001b[0m                            Traceback (most recent call last)",
      "Cell \u001b[0;32mIn[79], line 2\u001b[0m\n\u001b[1;32m      1\u001b[0m \u001b[38;5;28;01mfor\u001b[39;00m batch \u001b[38;5;129;01min\u001b[39;00m train_dataloader:\n\u001b[0;32m----> 2\u001b[0m     \u001b[38;5;28mprint\u001b[39m(\u001b[43mbatch\u001b[49m\u001b[38;5;241;43m.\u001b[39;49m\u001b[43mshape\u001b[49m)  \u001b[38;5;66;03m# Should print [10, 3, 244, 244] for a batch of 10 images\u001b[39;00m\n",
      "\u001b[0;31mAttributeError\u001b[0m: 'list' object has no attribute 'shape'"
     ]
    }
   ],
   "source": [
    "for batch in train_dataloader:\n",
    "    print(batch.shape)  # Should print [10, 3, 244, 244] for a batch of 10 images"
   ]
  },
  {
   "cell_type": "code",
   "execution_count": 83,
   "id": "5dcb1e23-9eea-47d6-a2e7-579aa8b6b4ae",
   "metadata": {},
   "outputs": [
    {
     "data": {
      "text/plain": [
       "2"
      ]
     },
     "execution_count": 83,
     "metadata": {},
     "output_type": "execute_result"
    }
   ],
   "source": [
    "len(batch) # [0].shape"
   ]
  },
  {
   "cell_type": "code",
   "execution_count": 85,
   "id": "d68f87e5-6a80-4437-b447-04c4b3deefe9",
   "metadata": {},
   "outputs": [
    {
     "data": {
      "text/plain": [
       "tensor([0, 0, 1, 0, 0])"
      ]
     },
     "execution_count": 85,
     "metadata": {},
     "output_type": "execute_result"
    }
   ],
   "source": [
    "batch[1]"
   ]
  },
  {
   "cell_type": "markdown",
   "id": "0fd2e22b-aa0c-4f4b-8e55-2fd0f5a84cdf",
   "metadata": {},
   "source": [
    "# Another Attempt"
   ]
  },
  {
   "cell_type": "raw",
   "id": "be41d835-26c0-4c69-8f2c-b48c73597747",
   "metadata": {},
   "source": [
    "class CustomImageDataset(Dataset):\n",
    "    def __init__(self, annotations_file, img_dir, transform=None, target_transform=None):\n",
    "        metadata = pd.read_csv(annotations_file)\n",
    "        self.img_labels = metadata[~metadata[\"id\"].isin(worng_shape_images)]\n",
    "        self.img_dir = img_dir\n",
    "        self.transform = transform\n",
    "        self.target_transform = target_transform\n",
    "        self.gendermap = {\"Boys\": 0,\n",
    "                          \"Girls\": 1,\n",
    "                          \"Men\": 0,\n",
    "                          \"Unisex\": 2,\n",
    "                          \"Women\": 1,\n",
    "                         }\n",
    "\n",
    "    def __len__(self):\n",
    "        return len(self.img_labels)\n",
    "\n",
    "    def __getitem__(self, idx):\n",
    "        img_path = os.path.join(self.img_dir, str(self.img_labels.iloc[idx, 0])+\".jpg\")\n",
    "        image = read_image(img_path)\n",
    "        label = self.gendermap[self.img_labels.iloc[idx, 1]]\n",
    "        if self.transform:\n",
    "            image = self.transform(image)\n",
    "        if self.target_transform:\n",
    "            label = self.target_transform(label)\n",
    "        return image, label\n",
    "\n"
   ]
  },
  {
   "cell_type": "code",
   "execution_count": 164,
   "id": "8d3e248e-74a9-406a-8166-f10ab1895f82",
   "metadata": {},
   "outputs": [],
   "source": [
    "import torch\n",
    "import torch.nn as nn\n",
    "import torch.optim as optim\n",
    "from torch.utils.data import Dataset, DataLoader\n",
    "from torchvision import transforms, models\n",
    "from PIL import Image\n",
    "import pandas as pd\n",
    "import os\n",
    "\n",
    "# Custom dataset class\n",
    "class CustomImageDataset(Dataset):\n",
    "    def __init__(self, csv_file, img_dir, transform=None):\n",
    "        metadata = pd.read_csv(csv_file)\n",
    "        self.labels_df = metadata[~metadata[\"id\"].isin(worng_shape_images + missing_files)]\n",
    "        self.img_dir = img_dir\n",
    "        self.transform = transform\n",
    "        self.gendermap = {\"Boys\": 0,\n",
    "                          \"Girls\": 1,\n",
    "                          \"Men\": 0,\n",
    "                          \"Unisex\": 2,\n",
    "                          \"Women\": 1,\n",
    "                         }\n",
    "        \n",
    "\n",
    "    def __len__(self):\n",
    "        return len(self.labels_df)\n",
    "\n",
    "    def __getitem__(self, idx):\n",
    "        img_name = os.path.join(self.img_dir, str(self.labels_df.iloc[idx, 0])+\".jpg\")\n",
    "        image = Image.open(img_name)\n",
    "        label = self.gendermap[self.labels_df.iloc[idx, 1]]\n",
    "\n",
    "        if self.transform:\n",
    "            image = self.transform(image)\n",
    "        \n",
    "        return image, label\n",
    "\n",
    "# Define the transformations\n",
    "transform = transforms.Compose([\n",
    "    transforms.Resize((224, 224)),  # Resize images to 224x224\n",
    "    transforms.ToTensor(),           # Convert PIL image to tensor\n",
    "])\n",
    "\n",
    "# Initialize dataset and dataloader, \n",
    "dataset = CustomImageDataset(csv_file=\"../../dataset/styles.csv\", img_dir=\"../../dataset/images/\", transform=transform)\n",
    "dataloader = DataLoader(dataset, batch_size=128, shuffle=True)\n"
   ]
  },
  {
   "cell_type": "code",
   "execution_count": 165,
   "id": "64617a27-e433-4efc-83b9-af72e4b516d5",
   "metadata": {},
   "outputs": [],
   "source": [
    "config = get_config()\n",
    "\n",
    "\n",
    "# Build model\n",
    "model = tiny_vit_21m_224(pretrained=True)\n",
    "for param in model.parameters():\n",
    "    param.requires_grad = False\n",
    "    \n",
    "model.head = torch.nn.Linear(model.head.in_features, 3)\n",
    "for param in model.head.parameters():\n",
    "    param.requires_grad = True\n",
    "# device = torch.device(\"cuda\" if torch.cuda.is_available() else \"cpu\")\n",
    "# model.to(device)"
   ]
  },
  {
   "cell_type": "code",
   "execution_count": 166,
   "id": "7496d040-c8c0-4a18-8eee-807dfd6e2a13",
   "metadata": {},
   "outputs": [
    {
     "name": "stdout",
     "output_type": "stream",
     "text": [
      "..........\n",
      "Epoch 1/10, Loss: 0.0307\n",
      "..........\n",
      "Epoch 2/10, Loss: 0.0269\n",
      "..........\n",
      "Epoch 3/10, Loss: 0.0245\n",
      "..........\n",
      "Epoch 4/10, Loss: 0.0224\n",
      "..........\n",
      "Epoch 5/10, Loss: 0.0210\n",
      "..........\n",
      "Epoch 6/10, Loss: 0.0197\n",
      "..........\n",
      "Epoch 7/10, Loss: 0.0186\n",
      "..........\n",
      "Epoch 8/10, Loss: 0.0175\n",
      "..........\n",
      "Epoch 9/10, Loss: 0.0172\n",
      "..........\n",
      "Epoch 10/10, Loss: 0.0165\n",
      "CPU times: user 1h 5min 46s, sys: 11min 20s, total: 1h 17min 6s\n",
      "Wall time: 17min 48s\n"
     ]
    }
   ],
   "source": [
    "%%time\n",
    "# Loss function and optimizer\n",
    "criterion = nn.CrossEntropyLoss()\n",
    "optimizer = optim.Adam(model.parameters(), lr=0.001)\n",
    "\n",
    "# Training loop\n",
    "num_epochs = 10\n",
    "\n",
    "for epoch in range(num_epochs):\n",
    "    model.train()\n",
    "    running_loss = 0.0\n",
    "\n",
    "    \n",
    "    for it, (inputs, labels) in enumerate(dataloader):\n",
    "        if it == 10:\n",
    "            break\n",
    "        # inputs, labels = inputs.to(device), labels.to(device)\n",
    "        \n",
    "        # Zero the parameter gradients\n",
    "        optimizer.zero_grad()\n",
    "        \n",
    "        # Forward pass\n",
    "        outputs = model(inputs)\n",
    "        loss = criterion(outputs, labels)\n",
    "        \n",
    "        # Backward pass and optimize\n",
    "        loss.backward()\n",
    "        optimizer.step()\n",
    "        \n",
    "        running_loss += loss.item() * inputs.size(0)\n",
    "        print(\".\", end=\"\")\n",
    "\n",
    "    epoch_loss = running_loss / len(dataset)\n",
    "    print(f'\\nEpoch {epoch + 1}/{num_epochs}, Loss: {epoch_loss:.4f}')\n"
   ]
  },
  {
   "cell_type": "code",
   "execution_count": null,
   "id": "3f1014c7-2be8-48eb-9897-a6be59a60d45",
   "metadata": {},
   "outputs": [],
   "source": []
  },
  {
   "cell_type": "code",
   "execution_count": null,
   "id": "c0cde37b-8429-43f6-bdd8-1db27dc5ed47",
   "metadata": {},
   "outputs": [],
   "source": []
  },
  {
   "cell_type": "code",
   "execution_count": null,
   "id": "9c62085e-1c89-435f-ac78-37c978e4216a",
   "metadata": {},
   "outputs": [],
   "source": []
  },
  {
   "cell_type": "code",
   "execution_count": 102,
   "id": "f54c078b-39b9-4156-8c10-fcb497fb6f51",
   "metadata": {},
   "outputs": [
    {
     "name": "stdout",
     "output_type": "stream",
     "text": [
      "Feature batch shape: torch.Size([32, 3, 224, 224])\n"
     ]
    },
    {
     "data": {
      "image/png": "[encoded data removed]",
      "text/plain": [
       "<Figure size 640x480 with 1 Axes>"
      ]
     },
     "metadata": {},
     "output_type": "display_data"
    },
    {
     "name": "stdout",
     "output_type": "stream",
     "text": [
      "Label: 1\n"
     ]
    }
   ],
   "source": [
    "# Display image and label.\n",
    "features, labels = next(iter(dataloader))\n",
    "print(f\"Feature batch shape: {features.size()}\")\n",
    "# print(f\"Labels batch shape: {labels.size()}\")\n",
    "img = features[0]#.squeeze()\n",
    "label = labels[0]\n",
    "plt.imshow(img.permute(1, 2, 0))\n",
    "plt.show()\n",
    "print(f\"Label: {label}\")"
   ]
  },
  {
   "cell_type": "code",
   "execution_count": 153,
   "id": "1d562eaa-c94e-4e8c-83b5-e980099b2cb6",
   "metadata": {},
   "outputs": [],
   "source": [
    "from PIL import Image\n",
    "import os.path\n",
    "\n",
    "# filename = os.path.join('path', 'to', 'image', 'file')\n",
    "# img = Image.open(filename)\n",
    "# print img.size\n",
    "path = \"../../dataset/images/\"\n",
    "counter = 0\n",
    "worng_shape_images = []\n",
    "missing_files = []\n",
    "for image_id in metadata.id.items():\n",
    "    filepath = path + str(image_id[1]) + \".jpg\"\n",
    "    if not os.path.isfile(filepath):\n",
    "        missing_files.append(image_id[1])\n",
    "        continue\n",
    "    img = np.array(Image.open(filepath))\n",
    "    if img.ndim != 3:\n",
    "        # print(f\"{filename} :: {img.shape}\")\n",
    "        worng_shape_images.append(image_id[1])"
   ]
  },
  {
   "cell_type": "code",
   "execution_count": 150,
   "id": "c0ffa5b7-284d-438f-a901-9abe31cdf541",
   "metadata": {},
   "outputs": [
    {
     "data": {
      "text/plain": [
       "[39403, 39410, 39425, 12347, 39401]"
      ]
     },
     "execution_count": 150,
     "metadata": {},
     "output_type": "execute_result"
    }
   ],
   "source": [
    "missing_files"
   ]
  },
  {
   "cell_type": "code",
   "execution_count": 154,
   "id": "a46b2a8b-4efb-46bb-878c-1c76aa8bb61b",
   "metadata": {},
   "outputs": [
    {
     "data": {
      "text/plain": [
       "[48966, 56597, 21629, 50674, 54143]"
      ]
     },
     "execution_count": 154,
     "metadata": {},
     "output_type": "execute_result"
    }
   ],
   "source": [
    "worng_shape_images[:5]"
   ]
  },
  {
   "cell_type": "code",
   "execution_count": 155,
   "id": "07c03173-9f03-4fce-ace1-848fd8bdd248",
   "metadata": {},
   "outputs": [
    {
     "data": {
      "text/plain": [
       "(43988, 11)"
      ]
     },
     "execution_count": 155,
     "metadata": {},
     "output_type": "execute_result"
    }
   ],
   "source": [
    "metadata[~metadata[\"id\"].isin(worng_shape_images + missing_files)].shape"
   ]
  },
  {
   "cell_type": "code",
   "execution_count": 118,
   "id": "e66e267a-02d3-4bf9-9e8d-7d8525b7eb27",
   "metadata": {},
   "outputs": [
    {
     "data": {
      "text/html": [
       "<div>\n",
       "<style scoped>\n",
       "    .dataframe tbody tr th:only-of-type {\n",
       "        vertical-align: middle;\n",
       "    }\n",
       "\n",
       "    .dataframe tbody tr th {\n",
       "        vertical-align: top;\n",
       "    }\n",
       "\n",
       "    .dataframe thead th {\n",
       "        text-align: right;\n",
       "    }\n",
       "</style>\n",
       "<table border=\"1\" class=\"dataframe\">\n",
       "  <thead>\n",
       "    <tr style=\"text-align: right;\">\n",
       "      <th></th>\n",
       "      <th>id</th>\n",
       "      <th>gender</th>\n",
       "      <th>masterCategory</th>\n",
       "      <th>subCategory</th>\n",
       "      <th>articleType</th>\n",
       "      <th>baseColour</th>\n",
       "      <th>season</th>\n",
       "      <th>year</th>\n",
       "      <th>usage</th>\n",
       "      <th>productDisplayName</th>\n",
       "      <th>productUsageRights</th>\n",
       "    </tr>\n",
       "  </thead>\n",
       "  <tbody>\n",
       "    <tr>\n",
       "      <th>0</th>\n",
       "      <td>37695</td>\n",
       "      <td>Unisex</td>\n",
       "      <td>Accessories</td>\n",
       "      <td>Bags</td>\n",
       "      <td>Backpacks</td>\n",
       "      <td>Brown</td>\n",
       "      <td>Summer</td>\n",
       "      <td>2012.0</td>\n",
       "      <td>Casual</td>\n",
       "      <td>American Tourister Unisex Brown Backpack</td>\n",
       "      <td>Limited</td>\n",
       "    </tr>\n",
       "    <tr>\n",
       "      <th>1</th>\n",
       "      <td>7073</td>\n",
       "      <td>Unisex</td>\n",
       "      <td>Accessories</td>\n",
       "      <td>Bags</td>\n",
       "      <td>Backpacks</td>\n",
       "      <td>Orange</td>\n",
       "      <td>NaN</td>\n",
       "      <td>2015.0</td>\n",
       "      <td>Casual</td>\n",
       "      <td>Wildcraft Unisex Orange &amp; White Printed Backpack</td>\n",
       "      <td>Free</td>\n",
       "    </tr>\n",
       "    <tr>\n",
       "      <th>2</th>\n",
       "      <td>28457</td>\n",
       "      <td>Women</td>\n",
       "      <td>Apparel</td>\n",
       "      <td>Bottomwear</td>\n",
       "      <td>Capris</td>\n",
       "      <td>Black</td>\n",
       "      <td>Summer</td>\n",
       "      <td>2012.0</td>\n",
       "      <td>Sports</td>\n",
       "      <td>Urban Yoga Women Black Capris</td>\n",
       "      <td>Free</td>\n",
       "    </tr>\n",
       "    <tr>\n",
       "      <th>3</th>\n",
       "      <td>7412</td>\n",
       "      <td>Women</td>\n",
       "      <td>Apparel</td>\n",
       "      <td>Topwear</td>\n",
       "      <td>Kurtas</td>\n",
       "      <td>Pink</td>\n",
       "      <td>Summer</td>\n",
       "      <td>2011.0</td>\n",
       "      <td>Ethnic</td>\n",
       "      <td>W Women V Neck Short Sleeve Pink Kurta</td>\n",
       "      <td>Limited</td>\n",
       "    </tr>\n",
       "    <tr>\n",
       "      <th>4</th>\n",
       "      <td>11775</td>\n",
       "      <td>Men</td>\n",
       "      <td>Apparel</td>\n",
       "      <td>Topwear</td>\n",
       "      <td>Tshirts</td>\n",
       "      <td>White</td>\n",
       "      <td>Fall</td>\n",
       "      <td>2011.0</td>\n",
       "      <td>Casual</td>\n",
       "      <td>Lee Men Printed White Tshirts</td>\n",
       "      <td>Free</td>\n",
       "    </tr>\n",
       "    <tr>\n",
       "      <th>...</th>\n",
       "      <td>...</td>\n",
       "      <td>...</td>\n",
       "      <td>...</td>\n",
       "      <td>...</td>\n",
       "      <td>...</td>\n",
       "      <td>...</td>\n",
       "      <td>...</td>\n",
       "      <td>...</td>\n",
       "      <td>...</td>\n",
       "      <td>...</td>\n",
       "      <td>...</td>\n",
       "    </tr>\n",
       "    <tr>\n",
       "      <th>44419</th>\n",
       "      <td>32618</td>\n",
       "      <td>Men</td>\n",
       "      <td>Apparel</td>\n",
       "      <td>Topwear</td>\n",
       "      <td>Jackets</td>\n",
       "      <td>Black</td>\n",
       "      <td>Summer</td>\n",
       "      <td>2012.0</td>\n",
       "      <td>Sports</td>\n",
       "      <td>Nike Men Black Jacket</td>\n",
       "      <td>Limited</td>\n",
       "    </tr>\n",
       "    <tr>\n",
       "      <th>44420</th>\n",
       "      <td>17260</td>\n",
       "      <td>Men</td>\n",
       "      <td>Apparel</td>\n",
       "      <td>Topwear</td>\n",
       "      <td>Tshirts</td>\n",
       "      <td>Cream</td>\n",
       "      <td>Fall</td>\n",
       "      <td>2011.0</td>\n",
       "      <td>Casual</td>\n",
       "      <td>U.S. Polo Assn. Men Solid Ivory Polo Tshirt</td>\n",
       "      <td>Restricted</td>\n",
       "    </tr>\n",
       "    <tr>\n",
       "      <th>44421</th>\n",
       "      <td>6735</td>\n",
       "      <td>Men</td>\n",
       "      <td>Footwear</td>\n",
       "      <td>Shoes</td>\n",
       "      <td>Casual Shoes</td>\n",
       "      <td>Black</td>\n",
       "      <td>Summer</td>\n",
       "      <td>2012.0</td>\n",
       "      <td>Casual</td>\n",
       "      <td>Puma Men Mid CVS Navy Blue Shoes</td>\n",
       "      <td>Restricted</td>\n",
       "    </tr>\n",
       "    <tr>\n",
       "      <th>44422</th>\n",
       "      <td>43002</td>\n",
       "      <td>Men</td>\n",
       "      <td>Footwear</td>\n",
       "      <td>Shoes</td>\n",
       "      <td>Sports Shoes</td>\n",
       "      <td>Grey</td>\n",
       "      <td>Summer</td>\n",
       "      <td>2012.0</td>\n",
       "      <td>Sports</td>\n",
       "      <td>Nike Men Grey Lunarswift Sports Shoes</td>\n",
       "      <td>Restricted</td>\n",
       "    </tr>\n",
       "    <tr>\n",
       "      <th>44423</th>\n",
       "      <td>8889</td>\n",
       "      <td>Men</td>\n",
       "      <td>Apparel</td>\n",
       "      <td>Topwear</td>\n",
       "      <td>Shirts</td>\n",
       "      <td>Black</td>\n",
       "      <td>Fall</td>\n",
       "      <td>2011.0</td>\n",
       "      <td>Formal</td>\n",
       "      <td>John Miller Men Black Shirt</td>\n",
       "      <td>Limited</td>\n",
       "    </tr>\n",
       "  </tbody>\n",
       "</table>\n",
       "<p>44424 rows × 11 columns</p>\n",
       "</div>"
      ],
      "text/plain": [
       "          id  gender masterCategory subCategory   articleType baseColour  \\\n",
       "0      37695  Unisex    Accessories        Bags     Backpacks      Brown   \n",
       "1       7073  Unisex    Accessories        Bags     Backpacks     Orange   \n",
       "2      28457   Women        Apparel  Bottomwear        Capris      Black   \n",
       "3       7412   Women        Apparel     Topwear        Kurtas       Pink   \n",
       "4      11775     Men        Apparel     Topwear       Tshirts      White   \n",
       "...      ...     ...            ...         ...           ...        ...   \n",
       "44419  32618     Men        Apparel     Topwear       Jackets      Black   \n",
       "44420  17260     Men        Apparel     Topwear       Tshirts      Cream   \n",
       "44421   6735     Men       Footwear       Shoes  Casual Shoes      Black   \n",
       "44422  43002     Men       Footwear       Shoes  Sports Shoes       Grey   \n",
       "44423   8889     Men        Apparel     Topwear        Shirts      Black   \n",
       "\n",
       "       season    year   usage  \\\n",
       "0      Summer  2012.0  Casual   \n",
       "1         NaN  2015.0  Casual   \n",
       "2      Summer  2012.0  Sports   \n",
       "3      Summer  2011.0  Ethnic   \n",
       "4        Fall  2011.0  Casual   \n",
       "...       ...     ...     ...   \n",
       "44419  Summer  2012.0  Sports   \n",
       "44420    Fall  2011.0  Casual   \n",
       "44421  Summer  2012.0  Casual   \n",
       "44422  Summer  2012.0  Sports   \n",
       "44423    Fall  2011.0  Formal   \n",
       "\n",
       "                                     productDisplayName productUsageRights  \n",
       "0              American Tourister Unisex Brown Backpack            Limited  \n",
       "1      Wildcraft Unisex Orange & White Printed Backpack               Free  \n",
       "2                         Urban Yoga Women Black Capris               Free  \n",
       "3                W Women V Neck Short Sleeve Pink Kurta            Limited  \n",
       "4                         Lee Men Printed White Tshirts               Free  \n",
       "...                                                 ...                ...  \n",
       "44419                             Nike Men Black Jacket            Limited  \n",
       "44420       U.S. Polo Assn. Men Solid Ivory Polo Tshirt         Restricted  \n",
       "44421                  Puma Men Mid CVS Navy Blue Shoes         Restricted  \n",
       "44422             Nike Men Grey Lunarswift Sports Shoes         Restricted  \n",
       "44423                       John Miller Men Black Shirt            Limited  \n",
       "\n",
       "[44424 rows x 11 columns]"
      ]
     },
     "execution_count": 118,
     "metadata": {},
     "output_type": "execute_result"
    }
   ],
   "source": [
    "metadata[~ metadata[\"id\"].isin([worng_shape_images])].shape"
   ]
  },
  {
   "cell_type": "code",
   "execution_count": null,
   "id": "36ec3e66-39be-4b81-8cb0-d7b707553cd3",
   "metadata": {},
   "outputs": [],
   "source": []
  }
 ],
 "metadata": {
  "kernelspec": {
   "display_name": "Python 3 (ipykernel)",
   "language": "python",
   "name": "python3"
  },
  "language_info": {
   "codemirror_mode": {
    "name": "ipython",
    "version": 3
   },
   "file_extension": ".py",
   "mimetype": "text/x-python",
   "name": "python",
   "nbconvert_exporter": "python",
   "pygments_lexer": "ipython3",
   "version": "3.10.10"
  }
 },
 "nbformat": 4,
 "nbformat_minor": 5
}
