{
 "cells": [
  {
   "cell_type": "code",
   "execution_count": 9,
   "id": "dfb3af6c-a46d-4fa4-ac01-24f05b246610",
   "metadata": {},
   "outputs": [],
   "source": [
    "import pandas as pd\n",
    "\n",
    "import torch\n",
    "import numpy as np\n",
    "from PIL import Image\n",
    "from PIL import Image\n",
    "import os.path\n",
    "from Cream.TinyViT.models.tiny_vit import tiny_vit_21m_224\n",
    "from Cream.TinyViT.data import build_transform, imagenet_classnames\n",
    "from Cream.TinyViT.config import get_config\n",
    "import torch\n",
    "import torch.nn as nn\n",
    "import torch.optim as optim\n",
    "from torch.utils.data import Dataset, DataLoader\n",
    "from torchvision import transforms, models\n",
    "from PIL import Image\n",
    "import pandas as pd\n",
    "import os\n",
    "import matplotlib.pyplot as plt\n",
    "\n",
    "IMAGES_DIR = \"../dataset/images/\"\n",
    "ORIGINAL_META_FILE = \"../dataset/styles.csv\"\n",
    "META_FILE = \"../dataset/cleaned_styles_.csv\"\n",
    "BATCH_SIZE=32"
   ]
  },
  {
   "cell_type": "markdown",
   "id": "b3659c2e-efd3-449a-b9a5-7b3883e29f46",
   "metadata": {},
   "source": [
    "# Data Clean up"
   ]
  },
  {
   "cell_type": "markdown",
   "id": "ae3de986-117b-488b-8771-81c0b3429311",
   "metadata": {},
   "source": [
    "## Metadata"
   ]
  },
  {
   "cell_type": "code",
   "execution_count": 10,
   "id": "79e92f28-4d06-4a44-8fef-57370c08baed",
   "metadata": {},
   "outputs": [
    {
     "data": {
      "text/html": [
       "<div>\n",
       "<style scoped>\n",
       "    .dataframe tbody tr th:only-of-type {\n",
       "        vertical-align: middle;\n",
       "    }\n",
       "\n",
       "    .dataframe tbody tr th {\n",
       "        vertical-align: top;\n",
       "    }\n",
       "\n",
       "    .dataframe thead th {\n",
       "        text-align: right;\n",
       "    }\n",
       "</style>\n",
       "<table border=\"1\" class=\"dataframe\">\n",
       "  <thead>\n",
       "    <tr style=\"text-align: right;\">\n",
       "      <th></th>\n",
       "      <th>id</th>\n",
       "      <th>gender</th>\n",
       "      <th>masterCategory</th>\n",
       "      <th>subCategory</th>\n",
       "      <th>articleType</th>\n",
       "      <th>baseColour</th>\n",
       "      <th>season</th>\n",
       "      <th>year</th>\n",
       "      <th>usage</th>\n",
       "      <th>productDisplayName</th>\n",
       "      <th>productUsageRights</th>\n",
       "    </tr>\n",
       "  </thead>\n",
       "  <tbody>\n",
       "    <tr>\n",
       "      <th>31903</th>\n",
       "      <td>55976</td>\n",
       "      <td>Women</td>\n",
       "      <td>Personal Care</td>\n",
       "      <td>Lips</td>\n",
       "      <td>Lipstick</td>\n",
       "      <td>NaN</td>\n",
       "      <td>Summer</td>\n",
       "      <td>2019.0</td>\n",
       "      <td>Casual</td>\n",
       "      <td>Colorbar Velvet Matte Secretly Pink Lipstick 62P</td>\n",
       "      <td>Free</td>\n",
       "    </tr>\n",
       "    <tr>\n",
       "      <th>15353</th>\n",
       "      <td>23684</td>\n",
       "      <td>Men</td>\n",
       "      <td>Accessories</td>\n",
       "      <td>Wallets</td>\n",
       "      <td>Wallets</td>\n",
       "      <td>Brown</td>\n",
       "      <td>Fall</td>\n",
       "      <td>2011.0</td>\n",
       "      <td>Casual</td>\n",
       "      <td>Newhide Brown Men Antique Wallet</td>\n",
       "      <td>Free</td>\n",
       "    </tr>\n",
       "    <tr>\n",
       "      <th>9928</th>\n",
       "      <td>30494</td>\n",
       "      <td>Women</td>\n",
       "      <td>Apparel</td>\n",
       "      <td>Innerwear</td>\n",
       "      <td>Bra</td>\n",
       "      <td>NaN</td>\n",
       "      <td>Summer</td>\n",
       "      <td>2014.0</td>\n",
       "      <td>Casual</td>\n",
       "      <td>Lovable Women Fiona Brown Bra</td>\n",
       "      <td>Restricted</td>\n",
       "    </tr>\n",
       "  </tbody>\n",
       "</table>\n",
       "</div>"
      ],
      "text/plain": [
       "          id gender masterCategory subCategory articleType baseColour  season  \\\n",
       "31903  55976  Women  Personal Care        Lips    Lipstick        NaN  Summer   \n",
       "15353  23684    Men    Accessories     Wallets     Wallets      Brown    Fall   \n",
       "9928   30494  Women        Apparel   Innerwear         Bra        NaN  Summer   \n",
       "\n",
       "         year   usage                                productDisplayName  \\\n",
       "31903  2019.0  Casual  Colorbar Velvet Matte Secretly Pink Lipstick 62P   \n",
       "15353  2011.0  Casual                  Newhide Brown Men Antique Wallet   \n",
       "9928   2014.0  Casual                     Lovable Women Fiona Brown Bra   \n",
       "\n",
       "      productUsageRights  \n",
       "31903               Free  \n",
       "15353               Free  \n",
       "9928          Restricted  "
      ]
     },
     "execution_count": 10,
     "metadata": {},
     "output_type": "execute_result"
    }
   ],
   "source": [
    "metadata = pd.read_csv(ORIGINAL_META_FILE)\n",
    "metadata.sample(3)"
   ]
  },
  {
   "cell_type": "code",
   "execution_count": 11,
   "id": "76b5a0b0-eac4-4163-86aa-5a7c96a7fda1",
   "metadata": {},
   "outputs": [
    {
     "name": "stdout",
     "output_type": "stream",
     "text": [
      "There are 44424 images in total.\n",
      "There are 431 images with single channel (gray images).\n",
      "There are 5 images that are missed.\n"
     ]
    }
   ],
   "source": [
    "path = IMAGES_DIR\n",
    "counter = 0\n",
    "worng_shape_images = []\n",
    "missing_files = []\n",
    "for image_id in metadata.id.items():\n",
    "    filepath = path + str(image_id[1]) + \".jpg\"\n",
    "    if not os.path.isfile(filepath):\n",
    "        missing_files.append(image_id[1])\n",
    "        continue\n",
    "    img = np.array(Image.open(filepath))\n",
    "    if img.ndim != 3:\n",
    "        # print(f\"{filename} :: {img.shape}\")\n",
    "        worng_shape_images.append(image_id[1])\n",
    "\n",
    "print(f\"There are {len(metadata)} images in total.\")\n",
    "print(f\"There are {len(worng_shape_images)} images with single channel (gray images).\")\n",
    "print(f\"There are {len(missing_files)} images that are missed.\")"
   ]
  },
  {
   "cell_type": "markdown",
   "id": "5e70c343-4949-4e73-9578-9483f8203d0f",
   "metadata": {},
   "source": [
    "Gray and missing images are just less than %1 metadata so, there is no need to try to fix them and we can ignore them and continue with healthy %99."
   ]
  },
  {
   "cell_type": "code",
   "execution_count": 17,
   "id": "f347f407-dfdb-4fe3-bac7-526257afcd08",
   "metadata": {},
   "outputs": [],
   "source": [
    "metadata = metadata[~metadata[\"id\"].isin(worng_shape_images + missing_files)]\n",
    "metadata.sample(1000).to_csv(META_FILE)"
   ]
  },
  {
   "cell_type": "markdown",
   "id": "b1486228-11fe-4deb-98b5-f9fa61d10175",
   "metadata": {},
   "source": [
    "## possible labels"
   ]
  },
  {
   "cell_type": "code",
   "execution_count": 13,
   "id": "1a0fb5f5-a08a-403f-8fef-3588149644a9",
   "metadata": {},
   "outputs": [
    {
     "data": {
      "text/html": [
       "<div>\n",
       "<style scoped>\n",
       "    .dataframe tbody tr th:only-of-type {\n",
       "        vertical-align: middle;\n",
       "    }\n",
       "\n",
       "    .dataframe tbody tr th {\n",
       "        vertical-align: top;\n",
       "    }\n",
       "\n",
       "    .dataframe thead th {\n",
       "        text-align: right;\n",
       "    }\n",
       "</style>\n",
       "<table border=\"1\" class=\"dataframe\">\n",
       "  <thead>\n",
       "    <tr style=\"text-align: right;\">\n",
       "      <th></th>\n",
       "      <th>gender</th>\n",
       "      <th>articleType</th>\n",
       "      <th>baseColour</th>\n",
       "      <th>season</th>\n",
       "      <th>usage</th>\n",
       "    </tr>\n",
       "  </thead>\n",
       "  <tbody>\n",
       "    <tr>\n",
       "      <th>34469</th>\n",
       "      <td>Women</td>\n",
       "      <td>Bra</td>\n",
       "      <td>Grey</td>\n",
       "      <td>Summer</td>\n",
       "      <td>Casual</td>\n",
       "    </tr>\n",
       "    <tr>\n",
       "      <th>10765</th>\n",
       "      <td>Men</td>\n",
       "      <td>Tshirts</td>\n",
       "      <td>Purple</td>\n",
       "      <td>Fall</td>\n",
       "      <td>Casual</td>\n",
       "    </tr>\n",
       "    <tr>\n",
       "      <th>20995</th>\n",
       "      <td>Women</td>\n",
       "      <td>Earrings</td>\n",
       "      <td>Gold</td>\n",
       "      <td>Winter</td>\n",
       "      <td>Casual</td>\n",
       "    </tr>\n",
       "  </tbody>\n",
       "</table>\n",
       "</div>"
      ],
      "text/plain": [
       "      gender articleType baseColour  season   usage\n",
       "34469  Women         Bra       Grey  Summer  Casual\n",
       "10765    Men     Tshirts     Purple    Fall  Casual\n",
       "20995  Women    Earrings       Gold  Winter  Casual"
      ]
     },
     "execution_count": 13,
     "metadata": {},
     "output_type": "execute_result"
    }
   ],
   "source": [
    "features = [\"gender\", \"articleType\", \"baseColour\", \"season\", \"usage\"]\n",
    "metadata[features].sample(3)"
   ]
  },
  {
   "cell_type": "code",
   "execution_count": 14,
   "id": "9190df53-ce2e-44fa-aabc-dc7832fb35da",
   "metadata": {},
   "outputs": [
    {
     "data": {
      "text/plain": [
       "gender            0\n",
       "articleType       0\n",
       "baseColour     4409\n",
       "season         4409\n",
       "usage           316\n",
       "dtype: int64"
      ]
     },
     "execution_count": 14,
     "metadata": {},
     "output_type": "execute_result"
    }
   ],
   "source": [
    "metadata[features].isna().sum()"
   ]
  },
  {
   "cell_type": "markdown",
   "id": "1aa31587-1f77-4fde-875d-46cf8e33a8a3",
   "metadata": {},
   "source": [
    "I do not see any problem with missing items. They are mainly PersonalCare items and I guess our model can handle it well. Test removing or replacing them later."
   ]
  },
  {
   "cell_type": "code",
   "execution_count": 15,
   "id": "6fbfe810-bd43-48d6-88b1-f8c591a8df81",
   "metadata": {},
   "outputs": [],
   "source": [
    "metadata = metadata.fillna(\"missing\")"
   ]
  },
  {
   "cell_type": "code",
   "execution_count": 8,
   "id": "e30e7547-be26-4e90-b543-8caca4edcf73",
   "metadata": {},
   "outputs": [],
   "source": [
    "def get_label_map(label_name: str) -> dict:\n",
    "    return {label_desc: label for label, label_desc in enumerate(metadata[label_name].unique())}\n",
    "feature_maps = {feature: get_label_map(feature) for feature in features}"
   ]
  },
  {
   "cell_type": "code",
   "execution_count": 9,
   "id": "9d3d16bf-f42c-4665-aa97-26ab70c8a2c3",
   "metadata": {},
   "outputs": [
    {
     "data": {
      "text/plain": [
       "{'Summer': 0, 'missing': 1, 'Fall': 2, 'Winter': 3, 'Spring': 4}"
      ]
     },
     "execution_count": 9,
     "metadata": {},
     "output_type": "execute_result"
    }
   ],
   "source": [
    "feature_maps[\"season\"]"
   ]
  },
  {
   "cell_type": "markdown",
   "id": "09e5a235-d974-4601-99d8-bc90b40dc51b",
   "metadata": {},
   "source": [
    "## Loading model"
   ]
  },
  {
   "cell_type": "code",
   "execution_count": 10,
   "id": "1d66830e-5bf2-4aa2-8c93-5679ddbf210c",
   "metadata": {},
   "outputs": [],
   "source": [
    "config = get_config()\n",
    "\n",
    "\n",
    "# Build model\n",
    "model = tiny_vit_21m_224(pretrained=True)\n",
    "# model.eval()"
   ]
  },
  {
   "cell_type": "markdown",
   "id": "fb503ba3-f9af-4c15-822a-0ec01e4ab127",
   "metadata": {},
   "source": [
    "## Default Infer"
   ]
  },
  {
   "cell_type": "code",
   "execution_count": 11,
   "id": "e1ae2d8f-806a-4424-864d-5a11b772d9c0",
   "metadata": {},
   "outputs": [
    {
     "name": "stdout",
     "output_type": "stream",
     "text": [
      "==============================\n",
      "../dataset/images/10001.jpg\n",
      "toilet seat: 0.01\n",
      "water bottle: 0.01\n",
      "toaster: 0.01\n",
      "trash can: 0.01\n",
      "mop: 0.01\n"
     ]
    }
   ],
   "source": [
    "\"\"\"Model Inference.\"\"\"\n",
    "\n",
    "# Load Image\n",
    "fname = \"../dataset/images/10001.jpg\"\n",
    "image = Image.open(fname)\n",
    "transform = build_transform(is_train=False, config=config)\n",
    "\n",
    "# (1, 3, img_size, img_size)\n",
    "batch = transform(image)[None]\n",
    "\n",
    "with torch.no_grad():\n",
    "    logits = model(batch)\n",
    "\n",
    "# print top-5 classification names\n",
    "probs = torch.softmax(logits, -1)\n",
    "scores, inds = probs.topk(5, largest=True, sorted=True)\n",
    "print('=' * 30)\n",
    "print(fname)\n",
    "for score, ind in zip(scores[0].numpy(), inds[0].numpy()):\n",
    "    print(f'{imagenet_classnames[ind]}: {score:.2f}')"
   ]
  },
  {
   "cell_type": "markdown",
   "id": "d0124352-f21d-4a36-8c66-069f1e3946e9",
   "metadata": {},
   "source": [
    "# Single Class Fine Tune"
   ]
  },
  {
   "cell_type": "markdown",
   "id": "3a14702e-3dbb-46ee-8c53-81617fb82ae5",
   "metadata": {},
   "source": [
    "## Gender Prediciton"
   ]
  },
  {
   "cell_type": "markdown",
   "id": "bbb46f0b-572d-4e6f-8f7e-fad424efa603",
   "metadata": {},
   "source": [
    "### define model"
   ]
  },
  {
   "cell_type": "code",
   "execution_count": 12,
   "id": "06cf991e-49f4-4d79-8f46-b4c7ead3fa63",
   "metadata": {},
   "outputs": [],
   "source": [
    "model.head = torch.nn.Linear(model.head.in_features, 3)"
   ]
  },
  {
   "cell_type": "markdown",
   "id": "2177db0b-e8fc-4408-ad5a-5779b3410a76",
   "metadata": {},
   "source": [
    "### create dataset"
   ]
  },
  {
   "cell_type": "code",
   "execution_count": 13,
   "id": "9567c485-1f9c-4400-b8f9-0a4edbb90193",
   "metadata": {},
   "outputs": [],
   "source": [
    "# Define the transformations\n",
    "transform = transforms.Compose([\n",
    "    transforms.Resize((224, 224)),  # Resize images to 224x224\n",
    "    transforms.ToTensor(),           # Convert PIL image to tensor\n",
    "])\n",
    "\n",
    "\n",
    "# Custom dataset class\n",
    "class CustomImageDataset(Dataset):\n",
    "    def __init__(self, metadata_file: str, img_dir: str, feature_name: str, feature_maps:dict, transform=None):\n",
    "        self.metadata = pd.read_csv(metadata_file)\n",
    "        self.img_dir = img_dir\n",
    "        self.transform = transform\n",
    "        self.feature_map = feature_maps[feature_name]\n",
    "        self.feature_name = feature_name\n",
    "        \n",
    "    def __len__(self):\n",
    "        return len(self.metadata)\n",
    "\n",
    "    def __getitem__(self, idx):\n",
    "        image = Image.open(os.path.join(self.img_dir, str(self.metadata.loc[idx, \"id\"])+\".jpg\"))\n",
    "        label = self.feature_map[self.metadata.loc[idx, self.feature_name]]\n",
    "\n",
    "        if self.transform:\n",
    "            image = self.transform(image)\n",
    "        \n",
    "        return image, label\n",
    "\n",
    "\n",
    "feature_name = \"gender\"\n",
    "# Initialize dataset and dataloader, \n",
    "dataset = CustomImageDataset(metadata_file=META_FILE, \n",
    "                             img_dir=IMAGES_DIR, \n",
    "                             feature_maps = feature_maps,\n",
    "                             feature_name = feature_name,\n",
    "                             transform=transform,\n",
    "                            )\n",
    "\n",
    "generator = torch.Generator().manual_seed(42)\n",
    "train_data, val_data, test_data = torch.utils.data.random_split(dataset, [0.7, 0.1, 0.2], generator)\n",
    "\n",
    "train_dataloader = DataLoader(train_data, batch_size=BATCH_SIZE, shuffle=True)\n",
    "test_dataloader = DataLoader(test_data, batch_size=BATCH_SIZE, shuffle=True)\n",
    "val_dataloader = DataLoader(val_data, batch_size=BATCH_SIZE, shuffle=True)"
   ]
  },
  {
   "cell_type": "code",
   "execution_count": null,
   "id": "f7c07936-07b6-4232-9995-8f5aa8c5ce4e",
   "metadata": {},
   "outputs": [],
   "source": []
  },
  {
   "cell_type": "code",
   "execution_count": 14,
   "id": "9b317bb3-8f12-48ed-bafe-0234920fc5b8",
   "metadata": {},
   "outputs": [
    {
     "name": "stdout",
     "output_type": "stream",
     "text": [
      "Feature batch shape: torch.Size([32, 3, 224, 224])\n"
     ]
    },
    {
     "data": {
      "image/png": "[encoded data removed]",
      "text/plain": [
       "<Figure size 640x480 with 1 Axes>"
      ]
     },
     "metadata": {},
     "output_type": "display_data"
    },
    {
     "name": "stdout",
     "output_type": "stream",
     "text": [
      "Label: 1\n"
     ]
    }
   ],
   "source": [
    "\n",
    "\n",
    "# Display image and label.\n",
    "features, labels = next(iter(train_dataloader))\n",
    "print(f\"Feature batch shape: {features.size()}\")\n",
    "# print(f\"Labels batch shape: {labels.size()}\")\n",
    "img = features[0]#.squeeze()\n",
    "label = labels[0]\n",
    "plt.imshow(img.permute(1, 2, 0))\n",
    "plt.show()\n",
    "print(f\"Label: {label}\")"
   ]
  },
  {
   "cell_type": "markdown",
   "id": "1b90b49d-28e4-4768-b768-045a04c48533",
   "metadata": {},
   "source": [
    "### train"
   ]
  },
  {
   "cell_type": "code",
   "execution_count": 15,
   "id": "64617a27-e433-4efc-83b9-af72e4b516d5",
   "metadata": {},
   "outputs": [],
   "source": [
    "config = get_config()\n",
    "\n",
    "\n",
    "# Build model\n",
    "model = tiny_vit_21m_224(pretrained=True)\n",
    "for param in model.parameters():\n",
    "    param.requires_grad = False\n",
    "    \n",
    "model.head = torch.nn.Linear(model.head.in_features, len(feature_maps[feature_name]))\n",
    "for param in model.head.parameters():\n",
    "    param.requires_grad = True\n",
    "# device = torch.device(\"cuda\" if torch.cuda.is_available() else \"cpu\")\n",
    "# model.to(device)"
   ]
  },
  {
   "cell_type": "code",
   "execution_count": 17,
   "id": "7496d040-c8c0-4a18-8eee-807dfd6e2a13",
   "metadata": {},
   "outputs": [
    {
     "name": "stdout",
     "output_type": "stream",
     "text": [
      ".....\n",
      "Epoch 1/2, Loss: 0.0050\n",
      ".....\n",
      "Epoch 2/2, Loss: 0.0049\n",
      "CPU times: user 1min 50s, sys: 18.4 s, total: 2min 8s\n",
      "Wall time: 26.7 s\n"
     ]
    }
   ],
   "source": [
    "%%time\n",
    "# Loss function and optimizer\n",
    "criterion = nn.CrossEntropyLoss()\n",
    "optimizer = optim.Adam(model.parameters(), lr=0.001)\n",
    "\n",
    "# Training loop\n",
    "num_epochs = 2\n",
    "\n",
    "for epoch in range(num_epochs):\n",
    "    model.train()\n",
    "    running_loss = 0.0\n",
    "\n",
    "    \n",
    "    for it, (inputs, labels) in enumerate(train_dataloader):\n",
    "        if it == 5:\n",
    "            break\n",
    "        # inputs, labels = inputs.to(device), labels.to(device)\n",
    "        \n",
    "        # Zero the parameter gradients\n",
    "        optimizer.zero_grad()\n",
    "        \n",
    "        # Forward pass\n",
    "        outputs = model(inputs)\n",
    "        loss = criterion(outputs, labels)\n",
    "        \n",
    "        # Backward pass and optimize\n",
    "        loss.backward()\n",
    "        optimizer.step()\n",
    "        \n",
    "        running_loss += loss.item() * inputs.size(0)\n",
    "        print(\".\", end=\"\")\n",
    "\n",
    "    epoch_loss = running_loss / len(dataset)\n",
    "    print(f'\\nEpoch {epoch + 1}/{num_epochs}, Loss: {epoch_loss:.4f}')\n"
   ]
  },
  {
   "cell_type": "code",
   "execution_count": 5,
   "id": "485d1cc6-5c28-4d73-b996-72baef3924eb",
   "metadata": {},
   "outputs": [
    {
     "data": {
      "text/plain": [
       "'202408312232'"
      ]
     },
     "execution_count": 5,
     "metadata": {},
     "output_type": "execute_result"
    }
   ],
   "source": [
    "from datetime import datetime\n",
    "datetime.now().strftime(\"%Y%m%d%H%M\")"
   ]
  },
  {
   "cell_type": "code",
   "execution_count": null,
   "id": "62980bc5-cef1-40f2-80c7-df8bdaf6fc50",
   "metadata": {},
   "outputs": [],
   "source": []
  }
 ],
 "metadata": {
  "kernelspec": {
   "display_name": "Python 3 (ipykernel)",
   "language": "python",
   "name": "python3"
  },
  "language_info": {
   "codemirror_mode": {
    "name": "ipython",
    "version": 3
   },
   "file_extension": ".py",
   "mimetype": "text/x-python",
   "name": "python",
   "nbconvert_exporter": "python",
   "pygments_lexer": "ipython3",
   "version": "3.10.10"
  }
 },
 "nbformat": 4,
 "nbformat_minor": 5
}
